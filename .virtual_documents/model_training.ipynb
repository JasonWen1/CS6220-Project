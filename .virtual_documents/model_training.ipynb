import pandas as pd
import numpy as np
import seaborn as sns
import matplotlib.pyplot as plt
from sklearn import preprocessing
from sklearn.linear_model import LogisticRegression
from sklearn.ensemble import RandomForestClassifier
from sklearn.model_selection import train_test_split
from sklearn import metrics
from sklearn.metrics import accuracy_score
from sklearn.metrics import classification_report
from sklearn.preprocessing import StandardScaler
from sklearn.preprocessing import OneHotEncoder
from sklearn.tree import DecisionTreeRegressor 
from sklearn.model_selection import GridSearchCV
from sklearn.metrics import roc_auc_score
from sklearn.ensemble import GradientBoostingClassifier


df=pd.read_csv('new_train2.csv')
test=pd.read_csv('new_test.csv')


df.head()


df['label'] = df['y'].apply(lambda x:1 if x=='yes' else 0)
del df['y']


X = df.iloc[:, 0:-1]
Y = df.iloc[:, -1]





def one_hot(col):
    global X
    uni=X[col].unique()
    #for i in range(len(uni)):
    #   df[col] = df[col].apply(lambda x:i if x==uni[i] else x)
    a=X[[col]]
    enc = OneHotEncoder()
    enc.fit(a)
    a= enc.transform(a).toarray()
    a=pd.DataFrame(a,columns=[col+'_'+i for i in uni])
    X= pd.concat((X, a), axis = 1)
    del X[col]


df.info()


plt.figure(figsize=(12, 6))
heatmap = sns.heatmap(df.corr(), vmin=-1, vmax=1, annot=True, cmap='YlGnBu')
heatmap.set_title('Correlation')



