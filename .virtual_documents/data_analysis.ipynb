import pandas as pd
import numpy as np
%matplotlib inline
import seaborn as sns
import matplotlib.pyplot as plt
from sklearn import preprocessing


train = pd.read_csv('new_train2.csv')
train


train.isnull().sum()


train['y']=train['y'].eq('yes').mul(1)
result = train['y']
result


plt.hist(result)
yes_count = len([item for item in result if item == 1])
no_count = len([item for item in result if item == 0])
count = [yes_count, no_count]
plt.pie(count, labels = ['yes','no'],autopct='%1.2f%%')
plt.title("Result distribution")


plt.hist(result)
yes_count = len([item for item in result if item == 1])
no_count = len([item for item in result if item == 0])
count = [yes_count, no_count]
plt.pie(count, labels = ['yes','no'],autopct='%1.2f%%')
plt.title("Result distribution")





train['y_str'] = train['y'].astype(str)
f,ax=plt.subplots(1,2,figsize=(26,8))
sns.countplot(y='education',data=train, ax=ax[0])
sns.countplot(y='education',hue = 'y_str', data = train, ax = ax[1])
train.groupby(['education'])['y'].mean().to_frame().style.background_gradient(cmap='summer_r')





f,ax=plt.subplots(1,2,figsize=(26,8))
sns.countplot(y='job',data=train, ax=ax[0])
sns.countplot(y='job',hue = 'y_str', data = train, ax = ax[1])
plt.show()
train.groupby(['job'])['y'].mean().to_frame().style.background_gradient(cmap='summer_r')





f,ax=plt.subplots(1,2,figsize=(26,8))
sns.countplot(y='default',data=train, ax=ax[0])
sns.countplot(y='default',hue = 'y_str', data = train, ax = ax[1])
plt.show()
train.groupby(['default'])['y'].mean().to_frame().style.background_gradient(cmap='summer_r')





f,ax=plt.subplots(1,2,figsize=(26,8))
sns.countplot(y='housing',data=train, ax=ax[0])
sns.countplot(y='housing',hue = 'y_str', data = train, ax = ax[1])
train.groupby(['housing'])['y'].mean().to_frame().style.background_gradient(cmap='summer_r')





f,ax=plt.subplots(1,2,figsize=(26,8))
sns.countplot(y='loan',data=train, ax=ax[0])
sns.countplot(y='loan',hue = 'y_str', data = train, ax = ax[1])
train.groupby(['loan'])['y'].count().to_frame().style.background_gradient(cmap='summer_r')





f,ax=plt.subplots(1,2,figsize=(26,8))
sns.countplot(y='marital',data=train, ax=ax[0])
sns.countplot(y='marital',hue = 'y_str', data = train, ax = ax[1])
train.groupby(['marital'])['y'].mean().to_frame().style.background_gradient(cmap='summer_r')





sns.displot(train.age,bins=20)

train['age_range']=pd.qcut(train['age'],10, duplicates='drop')
train.groupby(['age_range'])['y'].mean().to_frame().style.background_gradient(cmap='summer_r')





le = preprocessing.LabelEncoder()
le.fit(train.education.unique())
education_encoded = le.transform(train.education).tolist()

le = preprocessing.LabelEncoder()
le.fit(train.job.unique())
job_encoded = le.transform(train.job).tolist()

le = preprocessing.LabelEncoder()
le.fit(train.default.unique())
default_encoded = le.transform(train.default).tolist()

le = preprocessing.LabelEncoder()
le.fit(train.housing.unique())
housing_encoded = le.transform(train.housing).tolist()

le = preprocessing.LabelEncoder()
le.fit(train.loan.unique())
loan_encoded = le.transform(train.loan).tolist()


le = preprocessing.LabelEncoder()
le.fit(train.marital.unique())
marital_encoded = le.transform(train.marital).tolist()
print(le.transform(['single','married','divorced']))

age_encoded = train.age.tolist()

duration_encoded = train.duration.tolist()
y_encoded = train.y.tolist()

data = {'age':age_encoded, 'education':education_encoded, 'job':job_encoded, 'default':default_encoded,'housing':housing_encoded,'loan':loan_encoded,'marital':marital_encoded,'duration':duration_encoded,'result':y_encoded}
df = pd.DataFrame(data)
sns.heatmap(df.corr(),annot=True,cmap='RdYlGn',linewidths=0.2,annot_kws={'size':13})
fig=plt.gcf()
fig.set_size_inches(10,9)
