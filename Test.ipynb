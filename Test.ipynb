{
 "cells": [
  {
   "cell_type": "code",
   "execution_count": 34,
   "id": "23a6a550-6423-4c78-bc79-6e8a0e695d3a",
   "metadata": {},
   "outputs": [],
   "source": [
    "import numpy as np\n",
    "import pandas as pd\n",
    "import seaborn as sns\n",
    "import matplotlib.pyplot as plt\n",
    "from sklearn.model_selection import train_test_split, cross_val_score\n",
    "from sklearn.metrics import accuracy_score, classification_report, roc_curve, auc, confusion_matrix, ConfusionMatrixDisplay, precision_recall_curve\n",
    "from sklearn.preprocessing import StandardScaler, OneHotEncoder\n",
    "from sklearn.compose import ColumnTransformer\n",
    "from sklearn.pipeline import Pipeline\n",
    "from sklearn.linear_model import LogisticRegression\n",
    "from sklearn.ensemble import RandomForestClassifier\n",
    "from sklearn.svm import SVC\n",
    "from sklearn.discriminant_analysis import LinearDiscriminantAnalysis\n",
    "from sklearn.tree import DecisionTreeClassifier\n",
    "from sklearn.neighbors import KNeighborsClassifier\n",
    "from sklearn.naive_bayes import GaussianNB"
   ]
  },
  {
   "cell_type": "code",
   "execution_count": 35,
   "id": "1e7b38f2-fcf6-4f42-b681-6cd55f644c84",
   "metadata": {},
   "outputs": [],
   "source": [
    "df = pd.read_csv('new_train2.csv')"
   ]
  },
  {
   "cell_type": "code",
   "execution_count": 36,
   "id": "8ef7fe75-fdb9-4878-8b2e-4d8cb3077f53",
   "metadata": {},
   "outputs": [],
   "source": [
    "# Preprocess\n",
    "df['label'] = df['y'].apply(lambda x: 1 if x == 'yes' else 0)\n",
    "del df['y']\n",
    "\n",
    "most_frequent = df[df['default'] != 'unknown']['default'].mode()[0]\n",
    "df['default'].replace('unknown', most_frequent, inplace=True)\n",
    "\n",
    "df = df[(df['housing'] != 'unknown') & (df['loan'] != 'unknown') & (df['marital'] != 'unknown')]\n",
    "\n",
    "X = df.drop('label', axis=1)\n",
    "y = df['label']\n",
    "\n",
    "categorical_features = ['job', 'marital', 'education', 'default', 'housing', 'loan', 'contact', 'month', 'day_of_week', 'poutcome']\n",
    "numerical_features = ['age', 'duration', 'campaign']\n",
    "\n",
    "preprocessor = ColumnTransformer(\n",
    "    transformers=[\n",
    "        ('num', StandardScaler(), numerical_features),\n",
    "        ('cat', OneHotEncoder(sparse_output=False), categorical_features)  # Set sparse_output=False\n",
    "    ])"
   ]
  },
  {
   "cell_type": "code",
   "execution_count": 37,
   "id": "563b8a30-80fd-4a6e-b9fc-78b0d78d478d",
   "metadata": {},
   "outputs": [],
   "source": [
    "# Split data into train and test sets\n",
    "X_train, X_test, y_train, y_test = train_test_split(X, y, test_size=0.3, random_state=42)"
   ]
  },
  {
   "cell_type": "code",
   "execution_count": 39,
   "id": "fec2740d-054e-417b-a465-85027421d872",
   "metadata": {},
   "outputs": [
    {
     "name": "stdout",
     "output_type": "stream",
     "text": [
      "Unique values in training set: ['married' 'single' 'divorced']\n",
      "Unique values in testing set: ['single' 'married' 'divorced']\n"
     ]
    }
   ],
   "source": [
    "print(\"Unique values in training set:\", X_train['marital'].unique())\n",
    "print(\"Unique values in testing set:\", X_test['marital'].unique())"
   ]
  },
  {
   "cell_type": "code",
   "execution_count": 38,
   "id": "c385518a-13d4-4b23-b129-64dc30ceb48d",
   "metadata": {},
   "outputs": [
    {
     "name": "stderr",
     "output_type": "stream",
     "text": [
      "/Users/xiaolan/anaconda3/lib/python3.11/site-packages/sklearn/model_selection/_validation.py:794: UserWarning: Scoring failed. The score on this train-test partition for these parameters will be set to nan. Details: \n",
      "Traceback (most recent call last):\n",
      "  File \"/Users/xiaolan/anaconda3/lib/python3.11/site-packages/sklearn/metrics/_scorer.py\", line 115, in __call__\n",
      "    def __init__(self, *, scorers, raise_exc=True):\n",
      "                            ^^^^^^^^^^^^^^^^^^^^^^^^\n",
      "  File \"/Users/xiaolan/anaconda3/lib/python3.11/site-packages/sklearn/metrics/_scorer.py\", line 276, in _score\n",
      "    ``self._kwargs`` and ``kwargs`` passed as metadata.\n",
      "             ^^^^^^^^^^^^^^^^^^^^^^^^^^^^^^^^^^^^^^\n",
      "  File \"/Users/xiaolan/anaconda3/lib/python3.11/site-packages/sklearn/metrics/_scorer.py\", line 73, in _cached_call\n",
      "    homogeneity_score,\n",
      "               ^^^^^^^^\n",
      "  File \"/Users/xiaolan/anaconda3/lib/python3.11/site-packages/sklearn/pipeline.py\", line 480, in predict\n",
      "    Call `transform` of each transformer in the pipeline. The transformed\n",
      "             ^^^^^^^^^^^^^^^^^^^^^^^\n",
      "  File \"/Users/xiaolan/anaconda3/lib/python3.11/site-packages/sklearn/utils/_set_output.py\", line 140, in wrapped\n",
      "    data_to_wrap = f(self, X, *args, **kwargs)\n",
      "                   ^^^^^^^^^^^^^^^^^^^^^^^^^^^\n",
      "  File \"/Users/xiaolan/anaconda3/lib/python3.11/site-packages/sklearn/compose/_column_transformer.py\", line 800, in transform\n",
      "    if name in named_transformers\n",
      "  File \"/Users/xiaolan/anaconda3/lib/python3.11/site-packages/sklearn/compose/_column_transformer.py\", line 658, in _fit_transform\n",
      "    Private function to fit and/or transform on demand.\n",
      "               ^^^^^^^^^^^^^^^^^^^^^^^^^^^^^^^^^^^^^^^^\n",
      "  File \"/Users/xiaolan/anaconda3/lib/python3.11/site-packages/sklearn/utils/parallel.py\", line 63, in __call__\n",
      "    for delayed_func, args, kwargs in iterable\n",
      "       ^^^^^^^^^^^^^^^^^^^^^^^^^^^^^^^^^^^^^^\n",
      "  File \"/Users/xiaolan/anaconda3/lib/python3.11/site-packages/joblib/parallel.py\", line 1088, in __call__\n",
      "    while self.dispatch_one_batch(iterator):\n",
      "          ^^^^^^^^^^^^^^^^^^^^^^^^^^^^^^^^^\n",
      "  File \"/Users/xiaolan/anaconda3/lib/python3.11/site-packages/joblib/parallel.py\", line 901, in dispatch_one_batch\n",
      "    self._dispatch(tasks)\n",
      "  File \"/Users/xiaolan/anaconda3/lib/python3.11/site-packages/joblib/parallel.py\", line 819, in _dispatch\n",
      "    job = self._backend.apply_async(batch, callback=cb)\n",
      "          ^^^^^^^^^^^^^^^^^^^^^^^^^^^^^^^^^^^^^^^^^^^^^\n",
      "  File \"/Users/xiaolan/anaconda3/lib/python3.11/site-packages/joblib/_parallel_backends.py\", line 208, in apply_async\n",
      "    result = ImmediateResult(func)\n",
      "             ^^^^^^^^^^^^^^^^^^^^^\n",
      "  File \"/Users/xiaolan/anaconda3/lib/python3.11/site-packages/joblib/_parallel_backends.py\", line 597, in __init__\n",
      "    self.results = batch()\n",
      "                   ^^^^^^^\n",
      "  File \"/Users/xiaolan/anaconda3/lib/python3.11/site-packages/joblib/parallel.py\", line 288, in __call__\n",
      "    return [func(*args, **kwargs)\n",
      "           ^^^^^^^^^^^^^^^^^^^^^^\n",
      "  File \"/Users/xiaolan/anaconda3/lib/python3.11/site-packages/joblib/parallel.py\", line 288, in <listcomp>\n",
      "    return [func(*args, **kwargs)\n",
      "            ^^^^^^^^^^^^^^^^^^^^^\n",
      "  File \"/Users/xiaolan/anaconda3/lib/python3.11/site-packages/sklearn/utils/parallel.py\", line 123, in __call__\n",
      "    UserWarning,\n",
      "       ^^^^^^^^^^\n",
      "  File \"/Users/xiaolan/anaconda3/lib/python3.11/site-packages/sklearn/pipeline.py\", line 876, in _transform_one\n",
      "    name = names[i]\n",
      "      ^^^^^^^^^^^^^^\n",
      "  File \"/Users/xiaolan/anaconda3/lib/python3.11/site-packages/sklearn/utils/_set_output.py\", line 140, in wrapped\n",
      "    data_to_wrap = f(self, X, *args, **kwargs)\n",
      "                   ^^^^^^^^^^^^^^^^^^^^^^^^^^^\n",
      "  File \"/Users/xiaolan/anaconda3/lib/python3.11/site-packages/sklearn/preprocessing/_encoders.py\", line 917, in transform\n",
      "  File \"/Users/xiaolan/anaconda3/lib/python3.11/site-packages/sklearn/preprocessing/_encoders.py\", line 174, in _transform\n",
      "    handle_unknown=\"error\",\n",
      "                ^^^^^^^^^^^^\n",
      "ValueError: Found unknown categories ['yes'] in column 3 during transform\n",
      "\n",
      "  if return_estimator:\n"
     ]
    },
    {
     "name": "stdout",
     "output_type": "stream",
     "text": [
      "Cross-Validation Accuracy for Logistic Regression: nan ± nan\n"
     ]
    }
   ],
   "source": [
    "model = LogisticRegression(solver='liblinear', max_iter=1000)\n",
    "name = \"Logistic Regression\"\n",
    "\n",
    "pipeline = Pipeline(steps=[('preprocessor', preprocessor), ('classifier', model)])\n",
    "\n",
    "# Training \n",
    "pipeline.fit(X_train, y_train)\n",
    "\n",
    "# Validate: cross-validation\n",
    "cv_score = cross_val_score(pipeline, X_train, y_train, cv=5, scoring='accuracy')\n",
    "print(f\"Cross-Validation Accuracy for {name}: {np.mean(cv_score):.4f} ± {np.std(cv_score):.4f}\")"
   ]
  },
  {
   "cell_type": "code",
   "execution_count": null,
   "id": "20ba0440-c8e4-44ad-90a4-63c3ed807312",
   "metadata": {},
   "outputs": [],
   "source": []
  }
 ],
 "metadata": {
  "kernelspec": {
   "display_name": "Python 3 (ipykernel)",
   "language": "python",
   "name": "python3"
  },
  "language_info": {
   "codemirror_mode": {
    "name": "ipython",
    "version": 3
   },
   "file_extension": ".py",
   "mimetype": "text/x-python",
   "name": "python",
   "nbconvert_exporter": "python",
   "pygments_lexer": "ipython3",
   "version": "3.11.7"
  }
 },
 "nbformat": 4,
 "nbformat_minor": 5
}
